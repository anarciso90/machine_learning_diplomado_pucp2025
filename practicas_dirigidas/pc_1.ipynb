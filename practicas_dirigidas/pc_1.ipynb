{
 "cells": [
  {
   "cell_type": "markdown",
   "id": "7226a880",
   "metadata": {},
   "source": [
    "# Practica Dirigida 1"
   ]
  },
  {
   "cell_type": "markdown",
   "id": "49ccd424",
   "metadata": {},
   "source": [
    "Curso: Introducción a Machine Learning para las CCSS y Gestión Pública"
   ]
  },
  {
   "cell_type": "markdown",
   "id": "be6cbb99",
   "metadata": {},
   "source": [
    "Integrantes: \n",
    "\n",
    "Alfredo Narciso\n",
    "\n",
    "Anel Vásquez\n",
    "\n",
    "Luis Contreras\n",
    "\n",
    "Luis Ramos\n"
   ]
  },
  {
   "cell_type": "code",
   "execution_count": null,
   "id": "e50d13bc",
   "metadata": {},
   "outputs": [],
   "source": []
  },
  {
   "cell_type": "markdown",
   "id": "5ab1ee99",
   "metadata": {},
   "source": [
    "## Descenso de gradiente - Implementación y análisis"
   ]
  },
  {
   "cell_type": "code",
   "execution_count": 1,
   "id": "eb5b26ba",
   "metadata": {},
   "outputs": [],
   "source": [
    "#Importamos librerías necesarias\n",
    "import numpy as np\n",
    "import matplotlib.pyplot as plt"
   ]
  },
  {
   "cell_type": "markdown",
   "id": "bdbb071c",
   "metadata": {},
   "source": [
    "## Definir la Función y la Gradiente"
   ]
  },
  {
   "cell_type": "code",
   "execution_count": 5,
   "id": "1fa76e5c",
   "metadata": {},
   "outputs": [],
   "source": [
    "#Definimos la función f(x,y) = x^2 + 2y^2 - 2xy + 2x - 8y + 10 \n",
    "def f(punto):\n",
    "    \"\"\"Calcular el valor de la función en un punto [x, y].\"\"\"\n",
    "    x = punto[2]\n",
    "    y = punto[3]\n",
    "\n",
    "    # Función cuadrática: f(x,y) = x^2 + 2y^2 - 2xy + 2x - 8y + 10.\n",
    "\n",
    "    return x**2 + 2 * y**2 - 2 * x * y + 2 * x - 8 * y + 10\n",
    "\n",
    "#Definimos la derivada (gradiente) de la función: f'(x,y) = x^2 + 2y^2 - 2xy + 2x - 8y + 10\n",
    "def grad_f(punto):\n",
    "    \"\"\"Calcula el gradiente [df/dx, df/dy] en un punto [x, y].\"\"\"\n",
    "\n",
    "    x = punto[2]\n",
    "    y = punto[3]\n",
    "\n",
    "    # Derivada de df/dx = 2x\n",
    "    df_dx = 2 * x\n",
    "\n",
    "    # Derivada de df/dy = 2y\n",
    "    df_dy = 2 * y\n",
    "    \n",
    "    return np.array([df_dx, df_dy])\n"
   ]
  },
  {
   "cell_type": "markdown",
   "id": "0ab0bdd9",
   "metadata": {},
   "source": [
    "## Implementar el Algoritmo de Descenso de Gradiente"
   ]
  },
  {
   "cell_type": "code",
   "execution_count": 7,
   "id": "4a933c92",
   "metadata": {},
   "outputs": [],
   "source": [
    "def descenso_gradiente (punto_inicial, alpha, n_iteraciones):\n",
    "    \"\"\"Ejecuta el algoritmo de Descenso de Gradiente.\"\"\"\n",
    "    trayectoria = [punto_inicial]\n",
    "    punto_actual = punto_inicial.copy()\n",
    "\n",
    "    for i in range(n_iteraciones):\n",
    "        # Llama a la función gradiente que define el Paso 1\n",
    "        grad = grad_f(punto_actual)\n",
    "\n",
    "        # Actualiza el punto\n",
    "        punto_actual = punto_actual - alpha * grad\n",
    "\n",
    "        # Guarda el nuevo punto\n",
    "        trayectoria.append(punto_actual)\n",
    "\n",
    "        return np.array(trayectoria)"
   ]
  },
  {
   "cell_type": "markdown",
   "id": "c8648cdc",
   "metadata": {},
   "source": [
    "## Ejecutar y Visualizar"
   ]
  },
  {
   "cell_type": "code",
   "execution_count": null,
   "id": "f9a19028",
   "metadata": {},
   "outputs": [],
   "source": [
    "# --- 1. DEFINIR PARÁMETROS ---\n",
    "\n",
    "punto_inicial = np.array([4.0, 4.0])\n",
    "alpha = 0.1\n",
    "n_iteraciones = 20\n",
    "minimo_teorico = np.array([0.0, 0.0]) # <-- REEMPLAZAR con el mínimo asignado\n",
    "\n",
    "# --- 2. EJECUTA EL ALGORITMO (sin cambios) ---\n",
    "\n",
    "trayectoria = descenso_gradiente(punto_inicial, alpha, n_iteraciones)\n",
    "\n",
    "# --- 3. PREPARA LA MALLA PARA EL GRAFICO DE CONTORNO ---\n",
    "# <-- AJUSTA los limites de x e y para que tu trayectoria se vea bien\n",
    "x_vals = np.linspace(-5, 5, 100)\n",
    "y_vals = np.linspace(-5, 5, 100)\n",
    "X,  Y = np.meshgrid(x_vals, y_vals)\n",
    "Z = f([X, Y]) # Llama a la funcion f que definiste en el Paso 1\n",
    "\n",
    "# --- 4. CREA EL GRAFICO (Plantilla de Visualizacion) ---\n",
    "plt.figure(figsize=(12, 10))\n",
    "\n",
    "# Dibuja las curvas de nivel\n",
    "for i in range(len(trayectoria) - 1):\n",
    "    x_start, y_start = trayectoria[i]\n",
    "    dx = trayectoria[i+1, 0] - x_start\n",
    "    dy = trayectoria[i+1, 0] - y_start\n",
    "    plt.arrow(x_start, y_start, dx, dy,\n",
    "              head_width=0.2, head_length=0.3,\n",
    "              fc='red', ec='red', length_includes_head=True,\n",
    "              label='Trayectoria' if i == 0 else \"\")\n",
    "    \n",
    "# Dibuja los puntos clave\n",
    "plt.plot(punto_inicial[0], punto_inicial[1], 'go', markersize=10,\n",
    "         label=f'Inicio: ({punto_inicial[0]}, {punto_inicial[1]})')\n",
    "plt.plot(trayectoria[-1, 0], trayectoria[-1, 1], 'mo', markersize=10,\n",
    "         label=f'Final: ')"
   ]
  }
 ],
 "metadata": {
  "kernelspec": {
   "display_name": "base",
   "language": "python",
   "name": "python3"
  },
  "language_info": {
   "codemirror_mode": {
    "name": "ipython",
    "version": 3
   },
   "file_extension": ".py",
   "mimetype": "text/x-python",
   "name": "python",
   "nbconvert_exporter": "python",
   "pygments_lexer": "ipython3",
   "version": "3.9.23"
  }
 },
 "nbformat": 4,
 "nbformat_minor": 5
}
