{
 "cells": [
  {
   "cell_type": "markdown",
   "id": "7226a880",
   "metadata": {},
   "source": [
    "## Practica Dirigida 1"
   ]
  },
  {
   "cell_type": "markdown",
   "id": "49ccd424",
   "metadata": {},
   "source": [
    "Curso: Introducción a Machine Learning para las CCSS y Gestión Pública"
   ]
  },
  {
   "cell_type": "markdown",
   "id": "be6cbb99",
   "metadata": {},
   "source": [
    "Integrantes: \n",
    "Alfredo Narciso\n",
    "Anel Vásquez\n",
    "Luis Contreras\n",
    "Luis Ramos\n"
   ]
  }
 ],
 "metadata": {
  "kernelspec": {
   "display_name": "base",
   "language": "python",
   "name": "python3"
  },
  "language_info": {
   "name": "python",
   "version": "3.9.23"
  }
 },
 "nbformat": 4,
 "nbformat_minor": 5
}
