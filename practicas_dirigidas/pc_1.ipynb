{
 "cells": [
  {
   "cell_type": "markdown",
   "id": "7226a880",
   "metadata": {},
   "source": [
    "# Practica Dirigida 1"
   ]
  },
  {
   "cell_type": "markdown",
   "id": "49ccd424",
   "metadata": {},
   "source": [
    "Curso: Introducción a Machine Learning para las CCSS y Gestión Pública"
   ]
  },
  {
   "cell_type": "markdown",
   "id": "be6cbb99",
   "metadata": {},
   "source": [
    "Integrantes: \n",
    "\n",
    "Alfredo Narciso\n",
    "\n",
    "Anel Vásquez\n",
    "\n",
    "Luis Contreras\n",
    "\n",
    "Luis Ramos\n"
   ]
  },
  {
   "cell_type": "code",
   "execution_count": null,
   "id": "e50d13bc",
   "metadata": {},
   "outputs": [],
   "source": []
  },
  {
   "cell_type": "markdown",
   "id": "5ab1ee99",
   "metadata": {},
   "source": [
    "## Descenso de gradiente - Implementación y análisis"
   ]
  },
  {
   "cell_type": "code",
   "execution_count": 1,
   "id": "eb5b26ba",
   "metadata": {},
   "outputs": [],
   "source": [
    "#Importamos librerías necesarias\n",
    "import numpy as np\n",
    "import matplotlib.pyplot as plt"
   ]
  },
  {
   "cell_type": "code",
   "execution_count": 4,
   "id": "1fa76e5c",
   "metadata": {},
   "outputs": [],
   "source": [
    "#Definimos la función f(x,y) = x^2 + 2y^2 - 2xy + 2x - 8y + 10 \n",
    "def f(x):\n",
    "    \"\"\"\"\n",
    "    Función cuadrática: f(x,y) = x^2 + 2y^2 - 2xy + 2x - 8y + 10 \n",
    "\n",
    "    Parámetros:\n",
    "    x -- valor numérico o array en numpy\n",
    "\n",
    "    Retorna:\n",
    "    Valor de la función evaluada en x\n",
    "    \"\"\"\n",
    "    return x**2 + 2 * y**2 - 2 * x * y + 2 * x - 8 * y + 10\n",
    "\n",
    "#Definimos la derivada (gradiente) de la función: f'(x,y) = x^2 + 2y^2 - 2xy + 2x - 8y + 10\n",
    "def grad_f(x):\n",
    "    \"\"\"\"\n",
    "    Derivada de la función cuadrática f'(x,y) = x^2 + 2y^2 - 2xy + 2x - 8y + 10\n",
    "\n",
    "    Parámetros:\n",
    "    \n",
    "    x-- valor numérico o array en numpy\n",
    "\n",
    "    Retorna:\n",
    "    Valor de la derivada evaluada en x\n",
    "    \"\"\"\n",
    "    return x**2 + 2 * y**2 - 2 * x * y + 2 * x - 8 * y + 10\n"
   ]
  }
 ],
 "metadata": {
  "kernelspec": {
   "display_name": "base",
   "language": "python",
   "name": "python3"
  },
  "language_info": {
   "codemirror_mode": {
    "name": "ipython",
    "version": 3
   },
   "file_extension": ".py",
   "mimetype": "text/x-python",
   "name": "python",
   "nbconvert_exporter": "python",
   "pygments_lexer": "ipython3",
   "version": "3.9.23"
  }
 },
 "nbformat": 4,
 "nbformat_minor": 5
}
