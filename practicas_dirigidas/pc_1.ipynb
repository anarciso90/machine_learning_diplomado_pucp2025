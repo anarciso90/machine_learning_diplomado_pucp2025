{
 "cells": [
  {
   "cell_type": "markdown",
   "id": "7226a880",
   "metadata": {},
   "source": [
    "# Practica Dirigida 1"
   ]
  },
  {
   "cell_type": "markdown",
   "id": "49ccd424",
   "metadata": {},
   "source": [
    "Curso: Introducción a Machine Learning para las CCSS y Gestión Pública"
   ]
  },
  {
   "cell_type": "markdown",
   "id": "be6cbb99",
   "metadata": {},
   "source": [
    "Integrantes: \n",
    "\n",
    "Alfredo Narciso\n",
    "\n",
    "Anel Vásquez\n",
    "\n",
    "Luis Contreras\n",
    "\n",
    "Luis Ramos\n"
   ]
  },
  {
   "cell_type": "code",
   "execution_count": null,
   "id": "e50d13bc",
   "metadata": {},
   "outputs": [],
   "source": []
  },
  {
   "cell_type": "markdown",
   "id": "5ab1ee99",
   "metadata": {},
   "source": [
    "## Descenso de gradiente - Implementación y análisis"
   ]
  },
  {
   "cell_type": "code",
   "execution_count": 1,
   "id": "eb5b26ba",
   "metadata": {},
   "outputs": [],
   "source": [
    "#Importamos librerías necesarias\n",
    "import numpy as np\n",
    "import matplotlib.pyplot as plt"
   ]
  },
  {
   "cell_type": "code",
   "execution_count": 2,
   "id": "1fa76e5c",
   "metadata": {},
   "outputs": [
    {
     "ename": "SyntaxError",
     "evalue": "invalid syntax (4081084319.py, line 12)",
     "output_type": "error",
     "traceback": [
      "\u001b[1;36m  File \u001b[1;32m\"C:\\Users\\Usuario\\AppData\\Local\\Temp\\ipykernel_14788\\4081084319.py\"\u001b[1;36m, line \u001b[1;32m12\u001b[0m\n\u001b[1;33m    return x**2 + 2y**2 - 2xy + 2x - 8y + 10\u001b[0m\n\u001b[1;37m                   ^\u001b[0m\n\u001b[1;31mSyntaxError\u001b[0m\u001b[1;31m:\u001b[0m invalid syntax\n"
     ]
    }
   ],
   "source": [
    "#Definimos la función f(x,y) = x^2 + 2y^2 - 2xy + 2x - 8y + 10 \n",
    "def f(x):\n",
    "    \"\"\"\"\n",
    "    Función cuadrática: f(x,y) = x^2 + 2y^2 - 2xy + 2x - 8y + 10 \n",
    "\n",
    "    Parámetros:\n",
    "    x -- valor numérico o array en numpy\n",
    "\n",
    "    Retorna:\n",
    "    Valor de la derivada evaluada en x\n",
    "    \"\"\"\n",
    "    return x**2 + 2y**2 - 2xy + 2x - 8y + 10\n",
    "\n"
   ]
  }
 ],
 "metadata": {
  "kernelspec": {
   "display_name": "base",
   "language": "python",
   "name": "python3"
  },
  "language_info": {
   "codemirror_mode": {
    "name": "ipython",
    "version": 3
   },
   "file_extension": ".py",
   "mimetype": "text/x-python",
   "name": "python",
   "nbconvert_exporter": "python",
   "pygments_lexer": "ipython3",
   "version": "3.9.23"
  }
 },
 "nbformat": 4,
 "nbformat_minor": 5
}
